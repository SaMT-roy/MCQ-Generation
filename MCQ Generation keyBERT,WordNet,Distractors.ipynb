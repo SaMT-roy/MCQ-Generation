{
 "cells": [
  {
   "cell_type": "code",
   "execution_count": 1,
   "id": "95d4713c",
   "metadata": {},
   "outputs": [
    {
     "name": "stderr",
     "output_type": "stream",
     "text": [
      "C:\\Users\\Saptarshi MT\\anaconda3\\envs\\tf_gpu\\lib\\site-packages\\tqdm\\auto.py:21: TqdmWarning: IProgress not found. Please update jupyter and ipywidgets. See https://ipywidgets.readthedocs.io/en/stable/user_install.html\n",
      "  from .autonotebook import tqdm as notebook_tqdm\n"
     ]
    }
   ],
   "source": [
    "import string\n",
    "import random\n",
    "from nltk.corpus import stopwords\n",
    "from nltk.tokenize import sent_tokenize\n",
    "import nltk\n",
    "from nltk.corpus import wordnet as wn\n",
    "from nltk.stem import WordNetLemmatizer\n",
    "from nltk.corpus import stopwords\n",
    "from keybert import KeyBERT\n",
    "from nltk.tokenize import sent_tokenize\n",
    "from flashtext import KeywordProcessor\n",
    "from Levenshtein import distance"
   ]
  },
  {
   "cell_type": "markdown",
   "id": "4e24410e",
   "metadata": {},
   "source": [
    "# First mention a text"
   ]
  },
  {
   "cell_type": "code",
   "execution_count": 2,
   "id": "b3dc6229",
   "metadata": {},
   "outputs": [
    {
     "data": {
      "text/plain": [
       "'Sun, star around which Earth and the other components of the solar system revolve. It is the dominant body of the system, constituting more than 99 percent of its entire mass. The Sun is the source of an enormous amount of energy, a portion of which provides Earth with the light and heat necessary to support life.The Sun is classified as a G2 V star, with G2 standing for the second hottest stars of the yellow G class—of surface temperature about 5,800 kelvins (K)—and the V representing a main sequence, or dwarf, star, the typical star for this temperature class. (G stars are so called because of the prominence of a band of atomic and molecular spectral lines that the German physicist Joseph von Fraunhofer designated G.) The Sun exists in the outer part of the Milky Way Galaxy and was formed from material that had been processed inside a supernova. The Sun is not, as is often said, a small star. Although it falls midway between the biggest and smallest stars of its type, there are so many dwarf stars that the Sun falls in the top 5 percent of stars in the neighbourhood that immediately surrounds it.'"
      ]
     },
     "execution_count": 2,
     "metadata": {},
     "output_type": "execute_result"
    }
   ],
   "source": [
    "text = 'Sun, star around which Earth and the other components of the solar system revolve. It is the dominant body of the system, constituting more than 99 percent of its entire mass. The Sun is the source of an enormous amount of energy, a portion of which provides Earth with the light and heat necessary to support life.The Sun is classified as a G2 V star, with G2 standing for the second hottest stars of the yellow G class—of surface temperature about 5,800 kelvins (K)—and the V representing a main sequence, or dwarf, star, the typical star for this temperature class. (G stars are so called because of the prominence of a band of atomic and molecular spectral lines that the German physicist Joseph von Fraunhofer designated G.) The Sun exists in the outer part of the Milky Way Galaxy and was formed from material that had been processed inside a supernova. The Sun is not, as is often said, a small star. Although it falls midway between the biggest and smallest stars of its type, there are so many dwarf stars that the Sun falls in the top 5 percent of stars in the neighbourhood that immediately surrounds it.'\n",
    "text"
   ]
  },
  {
   "cell_type": "markdown",
   "id": "1f46dd8a",
   "metadata": {},
   "source": [
    "# Second lemmatize all the words"
   ]
  },
  {
   "cell_type": "code",
   "execution_count": 3,
   "id": "22bbcc9f",
   "metadata": {},
   "outputs": [
    {
     "data": {
      "text/plain": [
       "'sun, star around which earth and the other component of the solar system revolve. it is the dominant body of the system, constituting more than 99 percent of it entire mass. the sun is the source of an enormous amount of energy, a portion of which provides earth with the light and heat necessary to support life.the sun is classified a a g2 v star, with g2 standing for the second hottest star of the yellow g class—of surface temperature about 5,800 kelvin (k)—and the v representing a main sequence, or dwarf, star, the typical star for this temperature class. (g star are so called because of the prominence of a band of atomic and molecular spectral line that the german physicist joseph von fraunhofer designated g.) the sun exists in the outer part of the milky way galaxy and wa formed from material that had been processed inside a supernova. the sun is not, a is often said, a small star. although it fall midway between the biggest and smallest star of it type, there are so many dwarf star that the sun fall in the top 5 percent of star in the neighbourhood that immediately surround it.'"
      ]
     },
     "execution_count": 3,
     "metadata": {},
     "output_type": "execute_result"
    }
   ],
   "source": [
    "lemmatizer = WordNetLemmatizer()\n",
    "\n",
    "review = text\n",
    "review = review.lower()\n",
    "review = review.split()\n",
    "\n",
    "review = [lemmatizer.lemmatize(word) for word in review]\n",
    "review = ' '.join(review)\n",
    "\n",
    "text = review\n",
    "text"
   ]
  },
  {
   "cell_type": "markdown",
   "id": "81316ef8",
   "metadata": {},
   "source": [
    "# Now extract all the key-words from the text. \n",
    "# I used keyBERT which is a pretrained transformer architecture."
   ]
  },
  {
   "cell_type": "code",
   "execution_count": 4,
   "id": "c244aac8",
   "metadata": {},
   "outputs": [
    {
     "name": "stdout",
     "output_type": "stream",
     "text": [
      "[('sun', 0.5244), ('solar', 0.5016), ('star', 0.446), ('supernova', 0.4075), ('milky', 0.4001), ('dwarf', 0.3457), ('galaxy', 0.3089), ('temperature', 0.2921), ('g2', 0.2612), ('kelvin', 0.2559), ('energy', 0.2164), ('heat', 0.2125), ('spectral', 0.2096), ('hottest', 0.2045), ('mass', 0.2022), ('formed', 0.186), ('earth', 0.1795), ('class', 0.1733), ('yellow', 0.1697), ('outer', 0.1669), ('light', 0.1653), ('molecular', 0.1631), ('atomic', 0.1594), ('main', 0.1558), ('prominence', 0.1536), ('smallest', 0.1408), ('material', 0.1393), ('classified', 0.133), ('biggest', 0.129), ('type', 0.1161)]\n"
     ]
    }
   ],
   "source": [
    "kw_model = KeyBERT()\n",
    "keywords = kw_model.extract_keywords(text,top_n=30)\n",
    "print(keywords)"
   ]
  },
  {
   "cell_type": "markdown",
   "id": "c4f9484a",
   "metadata": {},
   "source": []
  },
  {
   "cell_type": "markdown",
   "id": "70266251",
   "metadata": {},
   "source": [
    "Extract the keys"
   ]
  },
  {
   "cell_type": "code",
   "execution_count": 5,
   "id": "1ab9d82e",
   "metadata": {
    "scrolled": true
   },
   "outputs": [
    {
     "data": {
      "text/plain": [
       "['sun',\n",
       " 'solar',\n",
       " 'star',\n",
       " 'supernova',\n",
       " 'milky',\n",
       " 'dwarf',\n",
       " 'galaxy',\n",
       " 'temperature',\n",
       " 'g2',\n",
       " 'kelvin',\n",
       " 'energy',\n",
       " 'heat',\n",
       " 'spectral',\n",
       " 'hottest',\n",
       " 'mass',\n",
       " 'formed',\n",
       " 'earth',\n",
       " 'class',\n",
       " 'yellow',\n",
       " 'outer',\n",
       " 'light',\n",
       " 'molecular',\n",
       " 'atomic',\n",
       " 'main',\n",
       " 'prominence',\n",
       " 'smallest',\n",
       " 'material',\n",
       " 'classified',\n",
       " 'biggest',\n",
       " 'type']"
      ]
     },
     "execution_count": 5,
     "metadata": {},
     "output_type": "execute_result"
    }
   ],
   "source": [
    "filtered_keys = []\n",
    "for i in range(len(keywords)):\n",
    "    filtered_keys.append(keywords[i][0])\n",
    "filtered_keys"
   ]
  },
  {
   "cell_type": "markdown",
   "id": "0d2f13d3",
   "metadata": {},
   "source": [
    "# Now match the keywords to the sentence they belong to"
   ]
  },
  {
   "cell_type": "code",
   "execution_count": 6,
   "id": "a57f10ce",
   "metadata": {},
   "outputs": [
    {
     "name": "stdout",
     "output_type": "stream",
     "text": [
      "{'sun': ['the sun is the source of an enormous amount of energy, a portion of which provides earth with the light and heat necessary to support life.the sun is classified a a g2 v star, with g2 standing for the second hottest star of the yellow g class—of surface temperature about 5,800 kelvin (k)—and the v representing a main sequence, or dwarf, star, the typical star for this temperature class.', 'the sun is the source of an enormous amount of energy, a portion of which provides earth with the light and heat necessary to support life.the sun is classified a a g2 v star, with g2 standing for the second hottest star of the yellow g class—of surface temperature about 5,800 kelvin (k)—and the v representing a main sequence, or dwarf, star, the typical star for this temperature class.', '(g star are so called because of the prominence of a band of atomic and molecular spectral line that the german physicist joseph von fraunhofer designated g.) the sun exists in the outer part of the milky way galaxy and wa formed from material that had been processed inside a supernova.', 'although it fall midway between the biggest and smallest star of it type, there are so many dwarf star that the sun fall in the top 5 percent of star in the neighbourhood that immediately surround it.', 'sun, star around which earth and the other component of the solar system revolve.', 'the sun is not, a is often said, a small star.'], 'solar': ['sun, star around which earth and the other component of the solar system revolve.'], 'star': ['the sun is the source of an enormous amount of energy, a portion of which provides earth with the light and heat necessary to support life.the sun is classified a a g2 v star, with g2 standing for the second hottest star of the yellow g class—of surface temperature about 5,800 kelvin (k)—and the v representing a main sequence, or dwarf, star, the typical star for this temperature class.', 'the sun is the source of an enormous amount of energy, a portion of which provides earth with the light and heat necessary to support life.the sun is classified a a g2 v star, with g2 standing for the second hottest star of the yellow g class—of surface temperature about 5,800 kelvin (k)—and the v representing a main sequence, or dwarf, star, the typical star for this temperature class.', 'the sun is the source of an enormous amount of energy, a portion of which provides earth with the light and heat necessary to support life.the sun is classified a a g2 v star, with g2 standing for the second hottest star of the yellow g class—of surface temperature about 5,800 kelvin (k)—and the v representing a main sequence, or dwarf, star, the typical star for this temperature class.', 'the sun is the source of an enormous amount of energy, a portion of which provides earth with the light and heat necessary to support life.the sun is classified a a g2 v star, with g2 standing for the second hottest star of the yellow g class—of surface temperature about 5,800 kelvin (k)—and the v representing a main sequence, or dwarf, star, the typical star for this temperature class.', '(g star are so called because of the prominence of a band of atomic and molecular spectral line that the german physicist joseph von fraunhofer designated g.) the sun exists in the outer part of the milky way galaxy and wa formed from material that had been processed inside a supernova.', 'although it fall midway between the biggest and smallest star of it type, there are so many dwarf star that the sun fall in the top 5 percent of star in the neighbourhood that immediately surround it.', 'although it fall midway between the biggest and smallest star of it type, there are so many dwarf star that the sun fall in the top 5 percent of star in the neighbourhood that immediately surround it.', 'although it fall midway between the biggest and smallest star of it type, there are so many dwarf star that the sun fall in the top 5 percent of star in the neighbourhood that immediately surround it.', 'sun, star around which earth and the other component of the solar system revolve.', 'the sun is not, a is often said, a small star.'], 'supernova': ['(g star are so called because of the prominence of a band of atomic and molecular spectral line that the german physicist joseph von fraunhofer designated g.) the sun exists in the outer part of the milky way galaxy and wa formed from material that had been processed inside a supernova.'], 'milky': ['(g star are so called because of the prominence of a band of atomic and molecular spectral line that the german physicist joseph von fraunhofer designated g.) the sun exists in the outer part of the milky way galaxy and wa formed from material that had been processed inside a supernova.'], 'dwarf': ['the sun is the source of an enormous amount of energy, a portion of which provides earth with the light and heat necessary to support life.the sun is classified a a g2 v star, with g2 standing for the second hottest star of the yellow g class—of surface temperature about 5,800 kelvin (k)—and the v representing a main sequence, or dwarf, star, the typical star for this temperature class.', 'although it fall midway between the biggest and smallest star of it type, there are so many dwarf star that the sun fall in the top 5 percent of star in the neighbourhood that immediately surround it.'], 'galaxy': ['(g star are so called because of the prominence of a band of atomic and molecular spectral line that the german physicist joseph von fraunhofer designated g.) the sun exists in the outer part of the milky way galaxy and wa formed from material that had been processed inside a supernova.'], 'temperature': ['the sun is the source of an enormous amount of energy, a portion of which provides earth with the light and heat necessary to support life.the sun is classified a a g2 v star, with g2 standing for the second hottest star of the yellow g class—of surface temperature about 5,800 kelvin (k)—and the v representing a main sequence, or dwarf, star, the typical star for this temperature class.', 'the sun is the source of an enormous amount of energy, a portion of which provides earth with the light and heat necessary to support life.the sun is classified a a g2 v star, with g2 standing for the second hottest star of the yellow g class—of surface temperature about 5,800 kelvin (k)—and the v representing a main sequence, or dwarf, star, the typical star for this temperature class.'], 'g2': ['the sun is the source of an enormous amount of energy, a portion of which provides earth with the light and heat necessary to support life.the sun is classified a a g2 v star, with g2 standing for the second hottest star of the yellow g class—of surface temperature about 5,800 kelvin (k)—and the v representing a main sequence, or dwarf, star, the typical star for this temperature class.', 'the sun is the source of an enormous amount of energy, a portion of which provides earth with the light and heat necessary to support life.the sun is classified a a g2 v star, with g2 standing for the second hottest star of the yellow g class—of surface temperature about 5,800 kelvin (k)—and the v representing a main sequence, or dwarf, star, the typical star for this temperature class.'], 'kelvin': ['the sun is the source of an enormous amount of energy, a portion of which provides earth with the light and heat necessary to support life.the sun is classified a a g2 v star, with g2 standing for the second hottest star of the yellow g class—of surface temperature about 5,800 kelvin (k)—and the v representing a main sequence, or dwarf, star, the typical star for this temperature class.'], 'energy': ['the sun is the source of an enormous amount of energy, a portion of which provides earth with the light and heat necessary to support life.the sun is classified a a g2 v star, with g2 standing for the second hottest star of the yellow g class—of surface temperature about 5,800 kelvin (k)—and the v representing a main sequence, or dwarf, star, the typical star for this temperature class.'], 'heat': ['the sun is the source of an enormous amount of energy, a portion of which provides earth with the light and heat necessary to support life.the sun is classified a a g2 v star, with g2 standing for the second hottest star of the yellow g class—of surface temperature about 5,800 kelvin (k)—and the v representing a main sequence, or dwarf, star, the typical star for this temperature class.'], 'spectral': ['(g star are so called because of the prominence of a band of atomic and molecular spectral line that the german physicist joseph von fraunhofer designated g.) the sun exists in the outer part of the milky way galaxy and wa formed from material that had been processed inside a supernova.'], 'hottest': ['the sun is the source of an enormous amount of energy, a portion of which provides earth with the light and heat necessary to support life.the sun is classified a a g2 v star, with g2 standing for the second hottest star of the yellow g class—of surface temperature about 5,800 kelvin (k)—and the v representing a main sequence, or dwarf, star, the typical star for this temperature class.'], 'mass': ['it is the dominant body of the system, constituting more than 99 percent of it entire mass.'], 'formed': ['(g star are so called because of the prominence of a band of atomic and molecular spectral line that the german physicist joseph von fraunhofer designated g.) the sun exists in the outer part of the milky way galaxy and wa formed from material that had been processed inside a supernova.'], 'earth': ['the sun is the source of an enormous amount of energy, a portion of which provides earth with the light and heat necessary to support life.the sun is classified a a g2 v star, with g2 standing for the second hottest star of the yellow g class—of surface temperature about 5,800 kelvin (k)—and the v representing a main sequence, or dwarf, star, the typical star for this temperature class.', 'sun, star around which earth and the other component of the solar system revolve.'], 'class': ['the sun is the source of an enormous amount of energy, a portion of which provides earth with the light and heat necessary to support life.the sun is classified a a g2 v star, with g2 standing for the second hottest star of the yellow g class—of surface temperature about 5,800 kelvin (k)—and the v representing a main sequence, or dwarf, star, the typical star for this temperature class.', 'the sun is the source of an enormous amount of energy, a portion of which provides earth with the light and heat necessary to support life.the sun is classified a a g2 v star, with g2 standing for the second hottest star of the yellow g class—of surface temperature about 5,800 kelvin (k)—and the v representing a main sequence, or dwarf, star, the typical star for this temperature class.'], 'yellow': ['the sun is the source of an enormous amount of energy, a portion of which provides earth with the light and heat necessary to support life.the sun is classified a a g2 v star, with g2 standing for the second hottest star of the yellow g class—of surface temperature about 5,800 kelvin (k)—and the v representing a main sequence, or dwarf, star, the typical star for this temperature class.'], 'outer': ['(g star are so called because of the prominence of a band of atomic and molecular spectral line that the german physicist joseph von fraunhofer designated g.) the sun exists in the outer part of the milky way galaxy and wa formed from material that had been processed inside a supernova.'], 'light': ['the sun is the source of an enormous amount of energy, a portion of which provides earth with the light and heat necessary to support life.the sun is classified a a g2 v star, with g2 standing for the second hottest star of the yellow g class—of surface temperature about 5,800 kelvin (k)—and the v representing a main sequence, or dwarf, star, the typical star for this temperature class.'], 'molecular': ['(g star are so called because of the prominence of a band of atomic and molecular spectral line that the german physicist joseph von fraunhofer designated g.) the sun exists in the outer part of the milky way galaxy and wa formed from material that had been processed inside a supernova.'], 'atomic': ['(g star are so called because of the prominence of a band of atomic and molecular spectral line that the german physicist joseph von fraunhofer designated g.) the sun exists in the outer part of the milky way galaxy and wa formed from material that had been processed inside a supernova.'], 'main': ['the sun is the source of an enormous amount of energy, a portion of which provides earth with the light and heat necessary to support life.the sun is classified a a g2 v star, with g2 standing for the second hottest star of the yellow g class—of surface temperature about 5,800 kelvin (k)—and the v representing a main sequence, or dwarf, star, the typical star for this temperature class.'], 'prominence': ['(g star are so called because of the prominence of a band of atomic and molecular spectral line that the german physicist joseph von fraunhofer designated g.) the sun exists in the outer part of the milky way galaxy and wa formed from material that had been processed inside a supernova.'], 'smallest': ['although it fall midway between the biggest and smallest star of it type, there are so many dwarf star that the sun fall in the top 5 percent of star in the neighbourhood that immediately surround it.'], 'material': ['(g star are so called because of the prominence of a band of atomic and molecular spectral line that the german physicist joseph von fraunhofer designated g.) the sun exists in the outer part of the milky way galaxy and wa formed from material that had been processed inside a supernova.'], 'classified': ['the sun is the source of an enormous amount of energy, a portion of which provides earth with the light and heat necessary to support life.the sun is classified a a g2 v star, with g2 standing for the second hottest star of the yellow g class—of surface temperature about 5,800 kelvin (k)—and the v representing a main sequence, or dwarf, star, the typical star for this temperature class.'], 'biggest': ['although it fall midway between the biggest and smallest star of it type, there are so many dwarf star that the sun fall in the top 5 percent of star in the neighbourhood that immediately surround it.'], 'type': ['although it fall midway between the biggest and smallest star of it type, there are so many dwarf star that the sun fall in the top 5 percent of star in the neighbourhood that immediately surround it.']}\n"
     ]
    }
   ],
   "source": [
    "def tokenize_sentences(text):\n",
    "    sentences = [sent_tokenize(text)]\n",
    "    sentences = [y for x in sentences for y in x]\n",
    "    # Remove any short sentences less than 20 letters.\n",
    "    sentences = [sentence.strip() for sentence in sentences if len(sentence) > 20]\n",
    "    return sentences\n",
    "\n",
    "def get_sentences_for_keyword(keywords, sentences):\n",
    "    keyword_processor = KeywordProcessor()\n",
    "    keyword_sentences = {}\n",
    "    for word in keywords:\n",
    "        keyword_sentences[word] = []\n",
    "        keyword_processor.add_keyword(word)\n",
    "    for sentence in sentences:\n",
    "        keywords_found = keyword_processor.extract_keywords(sentence)\n",
    "        for key in keywords_found:\n",
    "            keyword_sentences[key].append(sentence)\n",
    "\n",
    "    for key in keyword_sentences.keys():\n",
    "        values = keyword_sentences[key]\n",
    "        values = sorted(values, key=len, reverse=True)\n",
    "        keyword_sentences[key] = values\n",
    "    return keyword_sentences\n",
    "\n",
    "sentences = tokenize_sentences(text)\n",
    "keyword_sentence_mapping = get_sentences_for_keyword(filtered_keys, sentences)\n",
    "        \n",
    "print(keyword_sentence_mapping)"
   ]
  },
  {
   "cell_type": "code",
   "execution_count": 7,
   "id": "9198638f",
   "metadata": {},
   "outputs": [
    {
     "data": {
      "text/plain": [
       "dict_keys(['sun', 'solar', 'star', 'supernova', 'milky', 'dwarf', 'galaxy', 'temperature', 'g2', 'kelvin', 'energy', 'heat', 'spectral', 'hottest', 'mass', 'formed', 'earth', 'class', 'yellow', 'outer', 'light', 'molecular', 'atomic', 'main', 'prominence', 'smallest', 'material', 'classified', 'biggest', 'type'])"
      ]
     },
     "execution_count": 7,
     "metadata": {},
     "output_type": "execute_result"
    }
   ],
   "source": [
    "keyword_sentence_mapping.keys()"
   ]
  },
  {
   "cell_type": "markdown",
   "id": "83c83c82",
   "metadata": {},
   "source": [
    "# Weed out similar type of words. I used Levenshtein distance"
   ]
  },
  {
   "cell_type": "code",
   "execution_count": 8,
   "id": "3a3421f9",
   "metadata": {},
   "outputs": [
    {
     "name": "stdout",
     "output_type": "stream",
     "text": [
      "Similar words in the list: ['sun', 'solar', 'star', 'milky', 'dwarf', 'galaxy', 'g2', 'kelvin', 'energy', 'heat', 'hottest', 'mass', 'formed', 'earth', 'class', 'yellow', 'outer', 'light', 'main', 'biggest', 'type']\n"
     ]
    }
   ],
   "source": [
    "# Define the list of words\n",
    "words =filtered_keys\n",
    "# Define the threshold for similarity\n",
    "threshold = 4\n",
    "\n",
    "# Find pairs of words with Levenshtein distance below the threshold\n",
    "similar_pairs = []\n",
    "for i in range(len(words)):\n",
    "    for j in range(i+1, len(words)):\n",
    "        if distance(words[i], words[j]) <= threshold:\n",
    "            similar_pairs.append((words[i], words[j]))\n",
    "\n",
    "# Get the list of similar words\n",
    "similar = list(set([word for pair in similar_pairs for word in pair]))\n",
    "similar_words = [i for i in filtered_keys if i in similar]\n",
    "\n",
    "# Print the similar words\n",
    "print(\"Similar words in the list:\", similar_words)"
   ]
  },
  {
   "cell_type": "markdown",
   "id": "daebc227",
   "metadata": {},
   "source": [
    "# Finally create distractors of the keywords. I used Wordnet. \n",
    "# Then generate MCQs."
   ]
  },
  {
   "cell_type": "code",
   "execution_count": 9,
   "id": "c45cf73a",
   "metadata": {
    "scrolled": false
   },
   "outputs": [
    {
     "name": "stdout",
     "output_type": "stream",
     "text": [
      "Q.  the ______ is the source of an enormous amount of energy, a portion of which provides earth with the light and heat necessary to support life.the ______ is classified a a g2 v star, with g2 standing for the second hottest star of the yellow g class—of surface temperature about 5,800 kelvin (k)—and the v representing a main sequence, or dwarf, star, the typical star for this temperature class.\n",
      " \n",
      "      you options are :  ['sunburst', 'sun']\n",
      "         \n",
      "Q.  the ______ is the source of an enormous amount of energy, a portion of which provides earth with the light and heat necessary to support life.the ______ is classified a a g2 v star, with g2 standing for the second hottest star of the yellow g class—of surface temperature about 5,800 kelvin (k)—and the v representing a main sequence, or dwarf, star, the typical star for this temperature class.\n",
      " \n",
      "      you options are :  ['sunburst', 'sun']\n",
      "         \n",
      "Q.  (g star are so called because of the prominence of a band of atomic and molecular spectral line that the german physicist joseph von fraunhofer designated g.) the ______ exists in the outer part of the milky way galaxy and wa formed from material that had been processed inside a supernova.\n",
      " \n",
      "      you options are :  ['sunburst', 'sun']\n",
      "         \n",
      "Q.  although it fall midway between the biggest and smallest star of it type, there are so many dwarf star that the ______ fall in the top 5 percent of star in the neighbourhood that immediately surround it.\n",
      " \n",
      "      you options are :  ['sun', 'sunburst']\n",
      "         \n",
      "Q.  ______, star around which earth and the other component of the solar system revolve.\n",
      " \n",
      "      you options are :  ['sunburst', 'sun']\n",
      "         \n",
      "Q.  the ______ is not, a is often said, a small star.\n",
      " \n",
      "      you options are :  ['sunburst', 'sun']\n",
      "         \n",
      "Q.  the sun is the source of an enormous amount of energy, a portion of which provides earth with the light and heat necessary to support life.the sun is classified a a g2 v ______, with g2 standing for the second hottest ______ of the yellow g class—of surface temperature about 5,800 kelvin (k)—and the v representing a main sequence, or dwarf, ______, the typical ______ for this temperature class.\n",
      " \n",
      "      you options are :  ['binary_star', 'double_star', 'binary', 'star']\n",
      "         \n",
      "Q.  the sun is the source of an enormous amount of energy, a portion of which provides earth with the light and heat necessary to support life.the sun is classified a a g2 v ______, with g2 standing for the second hottest ______ of the yellow g class—of surface temperature about 5,800 kelvin (k)—and the v representing a main sequence, or dwarf, ______, the typical ______ for this temperature class.\n",
      " \n",
      "      you options are :  ['binary', 'star', 'double_star', 'binary_star']\n",
      "         \n",
      "Q.  the sun is the source of an enormous amount of energy, a portion of which provides earth with the light and heat necessary to support life.the sun is classified a a g2 v ______, with g2 standing for the second hottest ______ of the yellow g class—of surface temperature about 5,800 kelvin (k)—and the v representing a main sequence, or dwarf, ______, the typical ______ for this temperature class.\n",
      " \n",
      "      you options are :  ['star', 'binary', 'double_star', 'binary_star']\n",
      "         \n",
      "Q.  the sun is the source of an enormous amount of energy, a portion of which provides earth with the light and heat necessary to support life.the sun is classified a a g2 v ______, with g2 standing for the second hottest ______ of the yellow g class—of surface temperature about 5,800 kelvin (k)—and the v representing a main sequence, or dwarf, ______, the typical ______ for this temperature class.\n",
      " \n",
      "      you options are :  ['binary_star', 'star', 'double_star', 'binary']\n",
      "         \n",
      "Q.  (g ______ are so called because of the prominence of a band of atomic and molecular spectral line that the german physicist joseph von fraunhofer designated g.) the sun exists in the outer part of the milky way galaxy and wa formed from material that had been processed inside a supernova.\n",
      " \n",
      "      you options are :  ['double_star', 'binary', 'star', 'binary_star']\n",
      "         \n",
      "Q.  although it fall midway between the biggest and smallest ______ of it type, there are so many dwarf ______ that the sun fall in the top 5 percent of ______ in the neighbourhood that immediately surround it.\n",
      " \n",
      "      you options are :  ['binary', 'star', 'binary_star', 'double_star']\n",
      "         \n",
      "Q.  although it fall midway between the biggest and smallest ______ of it type, there are so many dwarf ______ that the sun fall in the top 5 percent of ______ in the neighbourhood that immediately surround it.\n",
      " \n",
      "      you options are :  ['binary', 'double_star', 'binary_star', 'star']\n",
      "         \n",
      "Q.  although it fall midway between the biggest and smallest ______ of it type, there are so many dwarf ______ that the sun fall in the top 5 percent of ______ in the neighbourhood that immediately surround it.\n",
      " \n",
      "      you options are :  ['binary_star', 'star', 'double_star', 'binary']\n",
      "         \n",
      "Q.  sun, ______ around which earth and the other component of the solar system revolve.\n",
      " \n",
      "      you options are :  ['binary', 'double_star', 'binary_star', 'star']\n",
      "         \n",
      "Q.  the sun is not, a is often said, a small ______.\n",
      " \n",
      "      you options are :  ['binary_star', 'binary', 'star', 'double_star']\n",
      "         \n",
      "Q.  the sun is the source of an enormous amount of energy, a portion of which provides earth with the light and heat necessary to support life.the sun is classified a a g2 v star, with g2 standing for the second hottest star of the yellow g class—of surface temperature about 5,800 kelvin (k)—and the v representing a main sequence, or ______, star, the typical star for this temperature class.\n",
      " \n",
      "      you options are :  ['pituitary_dwarf', 'hypophysial_dwarf', 'dwarf', 'Levi-Lorrain_dwarf']\n",
      "         \n",
      "Q.  although it fall midway between the biggest and smallest star of it type, there are so many ______ star that the sun fall in the top 5 percent of star in the neighbourhood that immediately surround it.\n",
      " \n",
      "      you options are :  ['pituitary_dwarf', 'hypophysial_dwarf', 'Levi-Lorrain_dwarf', 'dwarf']\n",
      "         \n",
      "Q.  (g star are so called because of the prominence of a band of atomic and molecular spectral line that the german physicist joseph von fraunhofer designated g.) the sun exists in the outer part of the milky way ______ and wa formed from material that had been processed inside a supernova.\n",
      " \n",
      "      you options are :  ['Great_Attractor', 'Milky_Way_Galaxy', 'Milky_Way', 'galaxy']\n",
      "         \n",
      "Q.  the sun is the source of an enormous amount of ______, a portion of which provides earth with the light and heat necessary to support life.the sun is classified a a g2 v star, with g2 standing for the second hottest star of the yellow g class—of surface temperature about 5,800 kelvin (k)—and the v representing a main sequence, or dwarf, star, the typical star for this temperature class.\n",
      " \n",
      "      you options are :  ['energy', 'activation_energy', 'alternative_energy', 'energy_of_activation']\n",
      "         \n",
      "Q.  the sun is the source of an enormous amount of energy, a portion of which provides earth with the light and ______ necessary to support life.the sun is classified a a g2 v star, with g2 standing for the second hottest star of the yellow g class—of surface temperature about 5,800 kelvin (k)—and the v representing a main sequence, or dwarf, star, the typical star for this temperature class.\n",
      " \n",
      "      you options are :  ['heat', 'heat_of_formation', 'geothermal_energy', 'heat_of_dissociation']\n",
      "         \n",
      "Q.  it is the dominant body of the system, constituting more than 99 percent of it entire ______.\n",
      " \n",
      "      you options are :  ['relative_atomic_mass', 'atomic_mass', 'atomic_weight', 'mass']\n",
      "         \n",
      "Q.  (g star are so called because of the prominence of a band of atomic and molecular spectral line that the german physicist joseph von fraunhofer designated g.) the sun exists in the outer part of the milky way galaxy and wa ______ from material that had been processed inside a supernova.\n",
      " \n",
      "      you options are :  ['choose_up', 'regiment', 'draw_up', 'formed']\n",
      "         \n",
      "Q.  the sun is the source of an enormous amount of energy, a portion of which provides ______ with the light and heat necessary to support life.the sun is classified a a g2 v star, with g2 standing for the second hottest star of the yellow g class—of surface temperature about 5,800 kelvin (k)—and the v representing a main sequence, or dwarf, star, the typical star for this temperature class.\n",
      " \n",
      "      you options are :  ['diatomaceous_earth', 'earth', 'kieselguhr', 'diatomite']\n",
      "         \n",
      "Q.  sun, star around which ______ and the other component of the solar system revolve.\n",
      " \n",
      "      you options are :  ['diatomite', 'earth', 'diatomaceous_earth', 'kieselguhr']\n",
      "         \n",
      "Q.  the sun is the source of an enormous amount of energy, a portion of which provides earth with the light and heat necessary to support life.the sun is ______ified a a g2 v star, with g2 standing for the second hottest star of the yellow g ______—of surface temperature about 5,800 kelvin (k)—and the v representing a main sequence, or dwarf, star, the typical star for this temperature ______.\n",
      " \n",
      "      you options are :  ['brass_family', 'declension', 'conjugation', 'class']\n",
      "         \n",
      "Q.  the sun is the source of an enormous amount of energy, a portion of which provides earth with the light and heat necessary to support life.the sun is ______ified a a g2 v star, with g2 standing for the second hottest star of the yellow g ______—of surface temperature about 5,800 kelvin (k)—and the v representing a main sequence, or dwarf, star, the typical star for this temperature ______.\n",
      " \n",
      "      you options are :  ['brass_family', 'class', 'conjugation', 'declension']\n",
      "         \n",
      "Q.  the sun is the source of an enormous amount of energy, a portion of which provides earth with the light and heat necessary to support life.the sun is classified a a g2 v star, with g2 standing for the second hottest star of the ______ g class—of surface temperature about 5,800 kelvin (k)—and the v representing a main sequence, or dwarf, star, the typical star for this temperature class.\n",
      " \n",
      "      you options are :  ['amber', 'gold', 'yellow', 'brownish_yellow']\n",
      "         \n",
      "Q.  the sun is the source of an enormous amount of energy, a portion of which provides earth with the ______ and heat necessary to support life.the sun is classified a a g2 v star, with g2 standing for the second hottest star of the yellow g class—of surface temperature about 5,800 kelvin (k)—and the v representing a main sequence, or dwarf, star, the typical star for this temperature class.\n",
      " \n",
      "      you options are :  ['light', 'light_beam', 'beam_of_light', 'beam']\n",
      "         \n",
      "Q.  the sun is the source of an enormous amount of energy, a portion of which provides earth with the light and heat necessary to support life.the sun is classified a a g2 v star, with g2 standing for the second hottest star of the yellow g class—of surface temperature about 5,800 kelvin (k)—and the v representing a ______ sequence, or dwarf, star, the typical star for this temperature class.\n",
      " \n",
      "      you options are :  ['sewer_main', 'main', 'electric_main', 'gas_main']\n",
      "         \n",
      "Q.  although it fall midway between the biggest and smallest star of it ______, there are so many dwarf star that the sun fall in the top 5 percent of star in the neighbourhood that immediately surround it.\n",
      " \n",
      "      you options are :  ['type', 'nature', 'version', 'breed']\n",
      "         \n"
     ]
    }
   ],
   "source": [
    "for j in similar_words:\n",
    "    \n",
    "    for i in keyword_sentence_mapping[j]:\n",
    "        \n",
    "        target_word = j\n",
    "        synsets = wn.synsets(target_word)\n",
    "\n",
    "        # Get the hyponyms of the target word from each synset\n",
    "        hyponyms = []\n",
    "        for synset in synsets:\n",
    "            hyponyms += synset.hyponyms()\n",
    "\n",
    "        # Get the lemmas of the hyponyms\n",
    "        lemmas = []\n",
    "        for hyponym in hyponyms:\n",
    "            lemmas += hyponym.lemmas()\n",
    "\n",
    "        # Get the names of the lemmas and filter out the target word itself\n",
    "        distractors = [lemma.name() for lemma in lemmas if lemma.name() != target_word]\n",
    "\n",
    "        if len(distractors)>0:\n",
    "            dist = distractors[:3]\n",
    "            dist.append(j)\n",
    "            random.shuffle(dist)\n",
    "            print('Q. ',i.replace(j,'______'))\n",
    "            print(' ')\n",
    "            print('      you options are : ',dist)\n",
    "            print('         ')\n",
    "        "
   ]
  },
  {
   "cell_type": "code",
   "execution_count": null,
   "id": "22d6d944",
   "metadata": {},
   "outputs": [],
   "source": []
  }
 ],
 "metadata": {
  "kernelspec": {
   "display_name": "Python 3 (ipykernel)",
   "language": "python",
   "name": "python3"
  },
  "language_info": {
   "codemirror_mode": {
    "name": "ipython",
    "version": 3
   },
   "file_extension": ".py",
   "mimetype": "text/x-python",
   "name": "python",
   "nbconvert_exporter": "python",
   "pygments_lexer": "ipython3",
   "version": "3.9.16"
  }
 },
 "nbformat": 4,
 "nbformat_minor": 5
}
